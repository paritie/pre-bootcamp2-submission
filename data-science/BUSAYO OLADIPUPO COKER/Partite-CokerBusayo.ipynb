{
  "cells": [
    {
      "cell_type": "code",
      "source": [
        "print(\"Hello, World!\")"
      ],
      "outputs": [
        {
          "output_type": "stream",
          "name": "stdout",
          "text": [
            "Hello, World!\n"
          ]
        }
      ],
      "execution_count": 10,
      "metadata": {}
    },
    {
      "cell_type": "code",
      "source": [
        "print(\"Hello, World!\")"
      ],
      "outputs": [
        {
          "output_type": "stream",
          "name": "stdout",
          "text": [
            "Hello, World!\n"
          ]
        }
      ],
      "execution_count": 11,
      "metadata": {}
    },
    {
      "cell_type": "code",
      "source": [
        "import math\n",
        "import os\n",
        "import random\n",
        "import re\n",
        "import sys\n",
        "\n",
        "    n = int(input().strip())\n",
        "\n",
        "check = {True: \"Not Weird\", False: \"Weird\"}\n",
        "print(check[\n",
        "        n%2==0 and (\n",
        "            n in range(2,6) or \n",
        "            n > 20)\n",
        "    ])"
      ],
      "outputs": [],
      "execution_count": null,
      "metadata": {}
    },
    {
      "cell_type": "code",
      "source": [
        "    a = int(input())\n",
        "    b = int(input())\n",
        "\n",
        "print(a+b)\n",
        "print(a-b)\n",
        "print(a*b)\n"
      ],
      "outputs": [],
      "execution_count": null,
      "metadata": {}
    },
    {
      "cell_type": "code",
      "source": [
        "    a = int(input())\n",
        "    b = int(input())\n",
        "\n",
        "print(a//b)\n",
        "print(a/b)\n"
      ],
      "outputs": [],
      "execution_count": null,
      "metadata": {}
    },
    {
      "cell_type": "code",
      "source": [
        "    n = int(input())\n",
        "\n",
        "for i in range(0, n):\n",
        "    print(i*i)\n"
      ],
      "outputs": [],
      "execution_count": null,
      "metadata": {}
    },
    {
      "cell_type": "code",
      "source": [
        "def is_leap(year):\n",
        "    if year % 400 == 0:\n",
        "        return True\n",
        "    if year % 100 == 0:\n",
        "        return False\n",
        "    if year % 4 == 0:\n",
        "        return True\n",
        "    else:\n",
        "        return False  \n",
        "    return is_leap\n",
        "\n",
        "year = int(input())\n",
        "print(is_leap(year))"
      ],
      "outputs": [],
      "execution_count": null,
      "metadata": {}
    }
  ],
  "metadata": {
    "pygments_lexer": "ipython3",
    "orig_nbformat": 2,
    "name": "python",
    "mimetype": "text/x-python",
    "npconvert_exporter": "python",
    "language_info": {
      "name": "python",
      "codemirror_mode": {
        "name": "ipython",
        "version": 3
      }
    },
    "version": 3,
    "file_extension": ".py",
    "nteract": {
      "version": "0.15.0"
    }
  },
  "nbformat": 4,
  "nbformat_minor": 2
}