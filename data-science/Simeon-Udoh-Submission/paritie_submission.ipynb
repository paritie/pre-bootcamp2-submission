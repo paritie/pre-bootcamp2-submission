{
 "cells": [
  {
   "cell_type": "code",
   "execution_count": 6,
   "metadata": {},
   "outputs": [
    {
     "name": "stdout",
     "output_type": "stream",
     "text": [
      "4\n",
      "Not weird\n"
     ]
    }
   ],
   "source": [
    "# This notebook file contains my solutions to the challenges on hackermoon\n",
    "\n",
    "'''\n",
    "Link to challenges: https://www.hackerrank.com/domains/python?filters%5Bsubdomains%5D%5B%5D=py-introduction\n",
    "Name: Simeon Udoh\n",
    "'''\n",
    "\n",
    "\n",
    "# Challenge 1: print Hello World\n",
    "\n",
    "print(\"Hello, World!\")\n",
    "\n",
    "\n",
    "\n",
    "# -------------------------------------------------------------------------------\n",
    "\n",
    "\n",
    "\n",
    "\n",
    "# Challenge 2:  Python Elseif #1\n",
    "n = int(input())\n",
    "if n % 2 == 0 and n in range(2,5): \n",
    "    print(\"Not weird\")\n",
    "elif n % 2 != 0: \n",
    "    print(\"Weird\")\n",
    "elif n % 2 == 0 and n in range(6, 21):  \n",
    "    print(\"Weird\")\n",
    "elif n % 2 == 0 and n > 20:  \n",
    "    print(\"Not Weird\")\n",
    "else: \n",
    "    print(\"The number you entered isn't an integer\")\n",
    "    \n",
    "# -------------------------------------------------------------------------------\n",
    "\n",
    "# Challenge 3: \n",
    "\n",
    "# Arithmetic challenge\n",
    "    a = int(input())\n",
    "    b = int(input())\n",
    "    print(\"{0} \\n{1} \\n{2}\".format((a + b), (a - b), (a * b)))\n",
    "    \n",
    "    \n",
    "\n",
    "# -------------------------------------------------------------------------------\n",
    "\n",
    "# Challenge 4:  For loop \n",
    "    \n",
    "n = int(input())\n",
    "for i in (range(0, n)): \n",
    "    print(i ** 2)\n",
    "    \n",
    "# -------------------------------------------------------------------------------\n",
    "\n",
    "# Challenge 5:  Function\n",
    "\n",
    "def is_leap(year):\n",
    "    leap = False\n",
    "    \n",
    "    if year % 4 == 0 and year % 100 != 0 or year % 400 == 0:\n",
    "        leap = True \n",
    "    \n",
    "    \n",
    "\n",
    "    \n",
    "    return leap\n",
    "\n",
    "year = int(input())\n",
    "\n",
    "# -------------------------------------------------------------------------------\n",
    "\n",
    "# Challenge 5:  print_function\n",
    "print(*range(1, int(input())+1), sep='')\n"
   ]
  },
  {
   "cell_type": "code",
   "execution_count": null,
   "metadata": {},
   "outputs": [],
   "source": []
  }
 ],
 "metadata": {
  "kernelspec": {
   "display_name": "Python 3",
   "language": "python",
   "name": "python3"
  },
  "language_info": {
   "codemirror_mode": {
    "name": "ipython",
    "version": 3
   },
   "file_extension": ".py",
   "mimetype": "text/x-python",
   "name": "python",
   "nbconvert_exporter": "python",
   "pygments_lexer": "ipython3",
   "version": "3.7.3"
  }
 },
 "nbformat": 4,
 "nbformat_minor": 2
}
